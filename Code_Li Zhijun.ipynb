{
 "cells": [
  {
   "cell_type": "code",
   "execution_count": 1,
   "metadata": {},
   "outputs": [],
   "source": [
    "import pandas as pd\n",
    "import numpy as np\n",
    "import lightgbm as lgb\n",
    "import matplotlib.pyplot as plt  \n",
    "import matplotlib.mlab as mlab    \n",
    "import matplotlib as mpl  \n",
    "from sklearn.model_selection import GridSearchCV\n",
    "import datetime\n",
    "import seaborn as sns"
   ]
  },
  {
   "cell_type": "code",
   "execution_count": 2,
   "metadata": {},
   "outputs": [
    {
     "name": "stdout",
     "output_type": "stream",
     "text": [
      "(13600, 2)\n",
      "(13600, 3)\n",
      "(3400, 26)\n",
      "(3000, 5)\n"
     ]
    }
   ],
   "source": [
    "bill_amount = pd.read_csv('bill_amount.csv')\n",
    "bill_id = pd.read_csv('bill_id.csv')\n",
    "clinical_data = pd.read_csv('clinical_data.csv')\n",
    "demographics = pd.read_csv('demographics.csv')\n",
    "\n",
    "print bill_amount.shape\n",
    "print bill_id.shape\n",
    "print clinical_data.shape\n",
    "print demographics.shape"
   ]
  },
  {
   "cell_type": "code",
   "execution_count": 3,
   "metadata": {},
   "outputs": [
    {
     "data": {
      "text/plain": [
       "3000"
      ]
     },
     "execution_count": 3,
     "metadata": {},
     "output_type": "execute_result"
    }
   ],
   "source": [
    "len(clinical_data.id.unique())"
   ]
  },
  {
   "cell_type": "markdown",
   "metadata": {},
   "source": [
    "## 2. Data Cleaning & Pre-processing"
   ]
  },
  {
   "cell_type": "markdown",
   "metadata": {},
   "source": [
    "### 2.1 Table: bill_amount\n",
    "#### Step1: Convert data type"
   ]
  },
  {
   "cell_type": "code",
   "execution_count": 4,
   "metadata": {},
   "outputs": [
    {
     "name": "stdout",
     "output_type": "stream",
     "text": [
      "bill_id      int64\n",
      "amount     float64\n",
      "dtype: object\n"
     ]
    },
    {
     "data": {
      "text/html": [
       "<div>\n",
       "<style>\n",
       "    .dataframe thead tr:only-child th {\n",
       "        text-align: right;\n",
       "    }\n",
       "\n",
       "    .dataframe thead th {\n",
       "        text-align: left;\n",
       "    }\n",
       "\n",
       "    .dataframe tbody tr th {\n",
       "        vertical-align: top;\n",
       "    }\n",
       "</style>\n",
       "<table border=\"1\" class=\"dataframe\">\n",
       "  <thead>\n",
       "    <tr style=\"text-align: right;\">\n",
       "      <th></th>\n",
       "      <th>bill_id</th>\n",
       "      <th>amount</th>\n",
       "    </tr>\n",
       "  </thead>\n",
       "  <tbody>\n",
       "    <tr>\n",
       "      <th>0</th>\n",
       "      <td>40315104</td>\n",
       "      <td>1552.634830</td>\n",
       "    </tr>\n",
       "    <tr>\n",
       "      <th>1</th>\n",
       "      <td>2660045161</td>\n",
       "      <td>1032.011951</td>\n",
       "    </tr>\n",
       "    <tr>\n",
       "      <th>2</th>\n",
       "      <td>1148334643</td>\n",
       "      <td>6469.605351</td>\n",
       "    </tr>\n",
       "    <tr>\n",
       "      <th>3</th>\n",
       "      <td>3818426276</td>\n",
       "      <td>755.965425</td>\n",
       "    </tr>\n",
       "    <tr>\n",
       "      <th>4</th>\n",
       "      <td>9833541918</td>\n",
       "      <td>897.347816</td>\n",
       "    </tr>\n",
       "  </tbody>\n",
       "</table>\n",
       "</div>"
      ],
      "text/plain": [
       "      bill_id       amount\n",
       "0    40315104  1552.634830\n",
       "1  2660045161  1032.011951\n",
       "2  1148334643  6469.605351\n",
       "3  3818426276   755.965425\n",
       "4  9833541918   897.347816"
      ]
     },
     "execution_count": 4,
     "metadata": {},
     "output_type": "execute_result"
    }
   ],
   "source": [
    "print bill_amount.dtypes\n",
    "bill_amount.head()"
   ]
  },
  {
   "cell_type": "code",
   "execution_count": 5,
   "metadata": {
    "collapsed": true
   },
   "outputs": [],
   "source": [
    "category_vars = ['bill_id']\n",
    "numeric_vars = ['amount']"
   ]
  },
  {
   "cell_type": "code",
   "execution_count": 6,
   "metadata": {
    "collapsed": true
   },
   "outputs": [],
   "source": [
    "for var in category_vars:\n",
    "    bill_amount[var] = bill_amount[var].astype(object)"
   ]
  },
  {
   "cell_type": "code",
   "execution_count": 7,
   "metadata": {
    "collapsed": true
   },
   "outputs": [],
   "source": [
    "for var in numeric_vars:\n",
    "    bill_amount[var] = bill_amount[var].astype(float)"
   ]
  },
  {
   "cell_type": "markdown",
   "metadata": {},
   "source": [
    "### 2.2 Table: bill_id\n",
    "#### Step1: Convert data type"
   ]
  },
  {
   "cell_type": "code",
   "execution_count": 8,
   "metadata": {},
   "outputs": [
    {
     "name": "stdout",
     "output_type": "stream",
     "text": [
      "bill_id               int64\n",
      "patient_id           object\n",
      "date_of_admission    object\n",
      "dtype: object\n"
     ]
    },
    {
     "data": {
      "text/html": [
       "<div>\n",
       "<style>\n",
       "    .dataframe thead tr:only-child th {\n",
       "        text-align: right;\n",
       "    }\n",
       "\n",
       "    .dataframe thead th {\n",
       "        text-align: left;\n",
       "    }\n",
       "\n",
       "    .dataframe tbody tr th {\n",
       "        vertical-align: top;\n",
       "    }\n",
       "</style>\n",
       "<table border=\"1\" class=\"dataframe\">\n",
       "  <thead>\n",
       "    <tr style=\"text-align: right;\">\n",
       "      <th></th>\n",
       "      <th>bill_id</th>\n",
       "      <th>patient_id</th>\n",
       "      <th>date_of_admission</th>\n",
       "    </tr>\n",
       "  </thead>\n",
       "  <tbody>\n",
       "    <tr>\n",
       "      <th>0</th>\n",
       "      <td>7968360812</td>\n",
       "      <td>1d21f2be18683991eb93d182d6b2d220</td>\n",
       "      <td>2011-01-01</td>\n",
       "    </tr>\n",
       "    <tr>\n",
       "      <th>1</th>\n",
       "      <td>6180579974</td>\n",
       "      <td>62bdca0b95d97e99e1c712048fb9fd09</td>\n",
       "      <td>2011-01-01</td>\n",
       "    </tr>\n",
       "    <tr>\n",
       "      <th>2</th>\n",
       "      <td>7512568183</td>\n",
       "      <td>1d21f2be18683991eb93d182d6b2d220</td>\n",
       "      <td>2011-01-01</td>\n",
       "    </tr>\n",
       "    <tr>\n",
       "      <th>3</th>\n",
       "      <td>3762633379</td>\n",
       "      <td>62bdca0b95d97e99e1c712048fb9fd09</td>\n",
       "      <td>2011-01-01</td>\n",
       "    </tr>\n",
       "    <tr>\n",
       "      <th>4</th>\n",
       "      <td>7654730355</td>\n",
       "      <td>1d21f2be18683991eb93d182d6b2d220</td>\n",
       "      <td>2011-01-01</td>\n",
       "    </tr>\n",
       "  </tbody>\n",
       "</table>\n",
       "</div>"
      ],
      "text/plain": [
       "      bill_id                        patient_id date_of_admission\n",
       "0  7968360812  1d21f2be18683991eb93d182d6b2d220        2011-01-01\n",
       "1  6180579974  62bdca0b95d97e99e1c712048fb9fd09        2011-01-01\n",
       "2  7512568183  1d21f2be18683991eb93d182d6b2d220        2011-01-01\n",
       "3  3762633379  62bdca0b95d97e99e1c712048fb9fd09        2011-01-01\n",
       "4  7654730355  1d21f2be18683991eb93d182d6b2d220        2011-01-01"
      ]
     },
     "execution_count": 8,
     "metadata": {},
     "output_type": "execute_result"
    }
   ],
   "source": [
    "print bill_id.dtypes\n",
    "bill_id.head()"
   ]
  },
  {
   "cell_type": "code",
   "execution_count": 9,
   "metadata": {
    "collapsed": true
   },
   "outputs": [],
   "source": [
    "category_vars = ['bill_id', 'patient_id']\n",
    "date_vars = ['date_of_admission']"
   ]
  },
  {
   "cell_type": "code",
   "execution_count": 10,
   "metadata": {
    "collapsed": true
   },
   "outputs": [],
   "source": [
    "for var in category_vars:\n",
    "    bill_id[var] = bill_id[var].astype(object)"
   ]
  },
  {
   "cell_type": "code",
   "execution_count": 11,
   "metadata": {
    "collapsed": true
   },
   "outputs": [],
   "source": [
    "for var in date_vars:\n",
    "    bill_id[var] = pd.to_datetime(bill_id[var])"
   ]
  },
  {
   "cell_type": "markdown",
   "metadata": {},
   "source": [
    "### 2.3 Table: clinical_data"
   ]
  },
  {
   "cell_type": "markdown",
   "metadata": {},
   "source": [
    "#### Step 1: Remove Anomalies"
   ]
  },
  {
   "cell_type": "code",
   "execution_count": 13,
   "metadata": {},
   "outputs": [
    {
     "data": {
      "text/plain": [
       "0      2176\n",
       "No      761\n",
       "1       348\n",
       "Yes     115\n",
       "Name: medical_history_3, dtype: int64"
      ]
     },
     "execution_count": 13,
     "metadata": {},
     "output_type": "execute_result"
    }
   ],
   "source": [
    "clinical_data['medical_history_3'].value_counts()"
   ]
  },
  {
   "cell_type": "code",
   "execution_count": 14,
   "metadata": {
    "collapsed": true
   },
   "outputs": [],
   "source": [
    "clinical_data['medical_history_3'] = np.where((clinical_data['medical_history_3'] == 'Yes') | (clinical_data['medical_history_3'] == '1') | (clinical_data['medical_history_3'] == 1), 1, 0)"
   ]
  },
  {
   "cell_type": "code",
   "execution_count": 15,
   "metadata": {},
   "outputs": [
    {
     "data": {
      "text/plain": [
       "0    2937\n",
       "1     463\n",
       "Name: medical_history_3, dtype: int64"
      ]
     },
     "execution_count": 15,
     "metadata": {},
     "output_type": "execute_result"
    }
   ],
   "source": [
    "clinical_data['medical_history_3'].value_counts()"
   ]
  },
  {
   "cell_type": "markdown",
   "metadata": {},
   "source": [
    "#### Step 2: Handle missing values"
   ]
  },
  {
   "cell_type": "code",
   "execution_count": 17,
   "metadata": {
    "collapsed": true
   },
   "outputs": [],
   "source": [
    "def impute(var):\n",
    "    ids = clinical_data.loc[clinical_data[var].isnull(),'id']\n",
    "    for i in ids:\n",
    "        tmp_value = clinical_data.loc[clinical_data.id == i, var].max()\n",
    "        clinical_data.loc[clinical_data.id == i, var] = tmp_value"
   ]
  },
  {
   "cell_type": "code",
   "execution_count": 18,
   "metadata": {},
   "outputs": [],
   "source": [
    "impute('medical_history_2')   \n",
    "impute('medical_history_5')"
   ]
  },
  {
   "cell_type": "code",
   "execution_count": 19,
   "metadata": {},
   "outputs": [
    {
     "name": "stdout",
     "output_type": "stream",
     "text": [
      "(180, 26)\n",
      "(238, 26)\n"
     ]
    }
   ],
   "source": [
    "print clinical_data[clinical_data['medical_history_2'].isnull()].shape\n",
    "print clinical_data[clinical_data['medical_history_5'].isnull()].shape\n",
    "#print clinical_data['medical_history_2'].value_counts()\n",
    "#print clinical_data['medical_history_5'].value_counts()"
   ]
  },
  {
   "cell_type": "code",
   "execution_count": 20,
   "metadata": {},
   "outputs": [
    {
     "name": "stdout",
     "output_type": "stream",
     "text": [
      "(3009, 26)\n"
     ]
    }
   ],
   "source": [
    "clinical_data.dropna(axis=0, how='any', inplace = True)\n",
    "print clinical_data.shape"
   ]
  },
  {
   "cell_type": "markdown",
   "metadata": {},
   "source": [
    "#### Step3: Convert Data type"
   ]
  },
  {
   "cell_type": "code",
   "execution_count": 12,
   "metadata": {},
   "outputs": [
    {
     "name": "stdout",
     "output_type": "stream",
     "text": [
      "id                     object\n",
      "date_of_admission      object\n",
      "date_of_discharge      object\n",
      "medical_history_1       int64\n",
      "medical_history_2     float64\n",
      "medical_history_3      object\n",
      "medical_history_4       int64\n",
      "medical_history_5     float64\n",
      "medical_history_6       int64\n",
      "medical_history_7       int64\n",
      "preop_medication_1      int64\n",
      "preop_medication_2      int64\n",
      "preop_medication_3      int64\n",
      "preop_medication_4      int64\n",
      "preop_medication_5      int64\n",
      "preop_medication_6      int64\n",
      "symptom_1               int64\n",
      "symptom_2               int64\n",
      "symptom_3               int64\n",
      "symptom_4               int64\n",
      "symptom_5               int64\n",
      "lab_result_1          float64\n",
      "lab_result_2          float64\n",
      "lab_result_3          float64\n",
      "weight                float64\n",
      "height                float64\n",
      "dtype: object\n"
     ]
    },
    {
     "data": {
      "text/html": [
       "<div>\n",
       "<style>\n",
       "    .dataframe thead tr:only-child th {\n",
       "        text-align: right;\n",
       "    }\n",
       "\n",
       "    .dataframe thead th {\n",
       "        text-align: left;\n",
       "    }\n",
       "\n",
       "    .dataframe tbody tr th {\n",
       "        vertical-align: top;\n",
       "    }\n",
       "</style>\n",
       "<table border=\"1\" class=\"dataframe\">\n",
       "  <thead>\n",
       "    <tr style=\"text-align: right;\">\n",
       "      <th></th>\n",
       "      <th>id</th>\n",
       "      <th>date_of_admission</th>\n",
       "      <th>date_of_discharge</th>\n",
       "      <th>medical_history_1</th>\n",
       "      <th>medical_history_2</th>\n",
       "      <th>medical_history_3</th>\n",
       "      <th>medical_history_4</th>\n",
       "      <th>medical_history_5</th>\n",
       "      <th>medical_history_6</th>\n",
       "      <th>medical_history_7</th>\n",
       "      <th>...</th>\n",
       "      <th>symptom_1</th>\n",
       "      <th>symptom_2</th>\n",
       "      <th>symptom_3</th>\n",
       "      <th>symptom_4</th>\n",
       "      <th>symptom_5</th>\n",
       "      <th>lab_result_1</th>\n",
       "      <th>lab_result_2</th>\n",
       "      <th>lab_result_3</th>\n",
       "      <th>weight</th>\n",
       "      <th>height</th>\n",
       "    </tr>\n",
       "  </thead>\n",
       "  <tbody>\n",
       "    <tr>\n",
       "      <th>0</th>\n",
       "      <td>1d21f2be18683991eb93d182d6b2d220</td>\n",
       "      <td>2011-01-01</td>\n",
       "      <td>2011-01-11</td>\n",
       "      <td>0</td>\n",
       "      <td>1.0</td>\n",
       "      <td>0</td>\n",
       "      <td>0</td>\n",
       "      <td>0.0</td>\n",
       "      <td>0</td>\n",
       "      <td>0</td>\n",
       "      <td>...</td>\n",
       "      <td>0</td>\n",
       "      <td>0</td>\n",
       "      <td>0</td>\n",
       "      <td>1</td>\n",
       "      <td>1</td>\n",
       "      <td>13.2</td>\n",
       "      <td>30.9</td>\n",
       "      <td>123.0</td>\n",
       "      <td>71.3</td>\n",
       "      <td>161.0</td>\n",
       "    </tr>\n",
       "    <tr>\n",
       "      <th>1</th>\n",
       "      <td>62bdca0b95d97e99e1c712048fb9fd09</td>\n",
       "      <td>2011-01-01</td>\n",
       "      <td>2011-01-11</td>\n",
       "      <td>0</td>\n",
       "      <td>0.0</td>\n",
       "      <td>0</td>\n",
       "      <td>0</td>\n",
       "      <td>0.0</td>\n",
       "      <td>0</td>\n",
       "      <td>0</td>\n",
       "      <td>...</td>\n",
       "      <td>0</td>\n",
       "      <td>0</td>\n",
       "      <td>1</td>\n",
       "      <td>1</td>\n",
       "      <td>1</td>\n",
       "      <td>13.8</td>\n",
       "      <td>22.6</td>\n",
       "      <td>89.0</td>\n",
       "      <td>78.4</td>\n",
       "      <td>160.0</td>\n",
       "    </tr>\n",
       "    <tr>\n",
       "      <th>2</th>\n",
       "      <td>c85cf97bc6307ded0dd4fef8bad2fa09</td>\n",
       "      <td>2011-01-02</td>\n",
       "      <td>2011-01-13</td>\n",
       "      <td>0</td>\n",
       "      <td>0.0</td>\n",
       "      <td>0</td>\n",
       "      <td>0</td>\n",
       "      <td>0.0</td>\n",
       "      <td>0</td>\n",
       "      <td>0</td>\n",
       "      <td>...</td>\n",
       "      <td>1</td>\n",
       "      <td>1</td>\n",
       "      <td>1</td>\n",
       "      <td>1</td>\n",
       "      <td>0</td>\n",
       "      <td>11.2</td>\n",
       "      <td>26.2</td>\n",
       "      <td>100.0</td>\n",
       "      <td>72.0</td>\n",
       "      <td>151.0</td>\n",
       "    </tr>\n",
       "    <tr>\n",
       "      <th>3</th>\n",
       "      <td>e0397dd72caf4552c5babebd3d61736c</td>\n",
       "      <td>2011-01-02</td>\n",
       "      <td>2011-01-14</td>\n",
       "      <td>0</td>\n",
       "      <td>1.0</td>\n",
       "      <td>No</td>\n",
       "      <td>0</td>\n",
       "      <td>0.0</td>\n",
       "      <td>1</td>\n",
       "      <td>1</td>\n",
       "      <td>...</td>\n",
       "      <td>1</td>\n",
       "      <td>1</td>\n",
       "      <td>1</td>\n",
       "      <td>1</td>\n",
       "      <td>1</td>\n",
       "      <td>13.3</td>\n",
       "      <td>28.4</td>\n",
       "      <td>76.0</td>\n",
       "      <td>64.4</td>\n",
       "      <td>152.0</td>\n",
       "    </tr>\n",
       "    <tr>\n",
       "      <th>4</th>\n",
       "      <td>94ade3cd5f66f4584902554dff170a29</td>\n",
       "      <td>2011-01-08</td>\n",
       "      <td>2011-01-16</td>\n",
       "      <td>0</td>\n",
       "      <td>0.0</td>\n",
       "      <td>No</td>\n",
       "      <td>0</td>\n",
       "      <td>0.0</td>\n",
       "      <td>1</td>\n",
       "      <td>1</td>\n",
       "      <td>...</td>\n",
       "      <td>0</td>\n",
       "      <td>1</td>\n",
       "      <td>0</td>\n",
       "      <td>1</td>\n",
       "      <td>0</td>\n",
       "      <td>12.0</td>\n",
       "      <td>27.8</td>\n",
       "      <td>87.0</td>\n",
       "      <td>55.6</td>\n",
       "      <td>160.0</td>\n",
       "    </tr>\n",
       "  </tbody>\n",
       "</table>\n",
       "<p>5 rows × 26 columns</p>\n",
       "</div>"
      ],
      "text/plain": [
       "                                 id date_of_admission date_of_discharge  \\\n",
       "0  1d21f2be18683991eb93d182d6b2d220        2011-01-01        2011-01-11   \n",
       "1  62bdca0b95d97e99e1c712048fb9fd09        2011-01-01        2011-01-11   \n",
       "2  c85cf97bc6307ded0dd4fef8bad2fa09        2011-01-02        2011-01-13   \n",
       "3  e0397dd72caf4552c5babebd3d61736c        2011-01-02        2011-01-14   \n",
       "4  94ade3cd5f66f4584902554dff170a29        2011-01-08        2011-01-16   \n",
       "\n",
       "   medical_history_1  medical_history_2 medical_history_3  medical_history_4  \\\n",
       "0                  0                1.0                 0                  0   \n",
       "1                  0                0.0                 0                  0   \n",
       "2                  0                0.0                 0                  0   \n",
       "3                  0                1.0                No                  0   \n",
       "4                  0                0.0                No                  0   \n",
       "\n",
       "   medical_history_5  medical_history_6  medical_history_7   ...    symptom_1  \\\n",
       "0                0.0                  0                  0   ...            0   \n",
       "1                0.0                  0                  0   ...            0   \n",
       "2                0.0                  0                  0   ...            1   \n",
       "3                0.0                  1                  1   ...            1   \n",
       "4                0.0                  1                  1   ...            0   \n",
       "\n",
       "   symptom_2  symptom_3  symptom_4  symptom_5  lab_result_1  lab_result_2  \\\n",
       "0          0          0          1          1          13.2          30.9   \n",
       "1          0          1          1          1          13.8          22.6   \n",
       "2          1          1          1          0          11.2          26.2   \n",
       "3          1          1          1          1          13.3          28.4   \n",
       "4          1          0          1          0          12.0          27.8   \n",
       "\n",
       "   lab_result_3  weight  height  \n",
       "0         123.0    71.3   161.0  \n",
       "1          89.0    78.4   160.0  \n",
       "2         100.0    72.0   151.0  \n",
       "3          76.0    64.4   152.0  \n",
       "4          87.0    55.6   160.0  \n",
       "\n",
       "[5 rows x 26 columns]"
      ]
     },
     "execution_count": 12,
     "metadata": {},
     "output_type": "execute_result"
    }
   ],
   "source": [
    "print clinical_data.dtypes\n",
    "clinical_data.head()"
   ]
  },
  {
   "cell_type": "code",
   "execution_count": 21,
   "metadata": {
    "collapsed": true
   },
   "outputs": [],
   "source": [
    "date_vars = ['date_of_admission', 'date_of_discharge']\n",
    "bool_vars = ['medical_history_1', 'medical_history_2','medical_history_3', 'medical_history_4', 'medical_history_5', 'medical_history_6', 'medical_history_7', 'preop_medication_1', 'preop_medication_2', 'preop_medication_3', 'preop_medication_4', 'preop_medication_5', 'preop_medication_6', 'symptom_1', 'symptom_2', 'symptom_3', 'symptom_4', 'symptom_5']\n",
    "numeric_vars = ['lab_result_1', 'lab_result_2', 'lab_result_3', 'weight', 'height']"
   ]
  },
  {
   "cell_type": "code",
   "execution_count": 22,
   "metadata": {
    "collapsed": true
   },
   "outputs": [],
   "source": [
    "for var in date_vars:\n",
    "    clinical_data[var] = pd.to_datetime(clinical_data[var])"
   ]
  },
  {
   "cell_type": "code",
   "execution_count": 23,
   "metadata": {
    "collapsed": true
   },
   "outputs": [],
   "source": [
    "for var in bool_vars:\n",
    "    clinical_data[var] = clinical_data[var].astype(bool, errors = 'ignore')"
   ]
  },
  {
   "cell_type": "code",
   "execution_count": 25,
   "metadata": {
    "collapsed": true
   },
   "outputs": [],
   "source": [
    "for var in numeric_vars:\n",
    "    clinical_data[var] = clinical_data[var].astype(float)"
   ]
  },
  {
   "cell_type": "code",
   "execution_count": 26,
   "metadata": {},
   "outputs": [
    {
     "name": "stdout",
     "output_type": "stream",
     "text": [
      "id                            object\n",
      "date_of_admission     datetime64[ns]\n",
      "date_of_discharge     datetime64[ns]\n",
      "medical_history_1               bool\n",
      "medical_history_2               bool\n",
      "medical_history_3               bool\n",
      "medical_history_4               bool\n",
      "medical_history_5               bool\n",
      "medical_history_6               bool\n",
      "medical_history_7               bool\n",
      "preop_medication_1              bool\n",
      "preop_medication_2              bool\n",
      "preop_medication_3              bool\n",
      "preop_medication_4              bool\n",
      "preop_medication_5              bool\n",
      "preop_medication_6              bool\n",
      "symptom_1                       bool\n",
      "symptom_2                       bool\n",
      "symptom_3                       bool\n",
      "symptom_4                       bool\n",
      "symptom_5                       bool\n",
      "lab_result_1                 float64\n",
      "lab_result_2                 float64\n",
      "lab_result_3                 float64\n",
      "weight                       float64\n",
      "height                       float64\n",
      "dtype: object\n"
     ]
    },
    {
     "data": {
      "text/html": [
       "<div>\n",
       "<style>\n",
       "    .dataframe thead tr:only-child th {\n",
       "        text-align: right;\n",
       "    }\n",
       "\n",
       "    .dataframe thead th {\n",
       "        text-align: left;\n",
       "    }\n",
       "\n",
       "    .dataframe tbody tr th {\n",
       "        vertical-align: top;\n",
       "    }\n",
       "</style>\n",
       "<table border=\"1\" class=\"dataframe\">\n",
       "  <thead>\n",
       "    <tr style=\"text-align: right;\">\n",
       "      <th></th>\n",
       "      <th>id</th>\n",
       "      <th>date_of_admission</th>\n",
       "      <th>date_of_discharge</th>\n",
       "      <th>medical_history_1</th>\n",
       "      <th>medical_history_2</th>\n",
       "      <th>medical_history_3</th>\n",
       "      <th>medical_history_4</th>\n",
       "      <th>medical_history_5</th>\n",
       "      <th>medical_history_6</th>\n",
       "      <th>medical_history_7</th>\n",
       "      <th>...</th>\n",
       "      <th>symptom_1</th>\n",
       "      <th>symptom_2</th>\n",
       "      <th>symptom_3</th>\n",
       "      <th>symptom_4</th>\n",
       "      <th>symptom_5</th>\n",
       "      <th>lab_result_1</th>\n",
       "      <th>lab_result_2</th>\n",
       "      <th>lab_result_3</th>\n",
       "      <th>weight</th>\n",
       "      <th>height</th>\n",
       "    </tr>\n",
       "  </thead>\n",
       "  <tbody>\n",
       "    <tr>\n",
       "      <th>0</th>\n",
       "      <td>1d21f2be18683991eb93d182d6b2d220</td>\n",
       "      <td>2011-01-01</td>\n",
       "      <td>2011-01-11</td>\n",
       "      <td>False</td>\n",
       "      <td>True</td>\n",
       "      <td>False</td>\n",
       "      <td>False</td>\n",
       "      <td>False</td>\n",
       "      <td>False</td>\n",
       "      <td>False</td>\n",
       "      <td>...</td>\n",
       "      <td>False</td>\n",
       "      <td>False</td>\n",
       "      <td>False</td>\n",
       "      <td>True</td>\n",
       "      <td>True</td>\n",
       "      <td>13.2</td>\n",
       "      <td>30.9</td>\n",
       "      <td>123.0</td>\n",
       "      <td>71.3</td>\n",
       "      <td>161.0</td>\n",
       "    </tr>\n",
       "    <tr>\n",
       "      <th>1</th>\n",
       "      <td>62bdca0b95d97e99e1c712048fb9fd09</td>\n",
       "      <td>2011-01-01</td>\n",
       "      <td>2011-01-11</td>\n",
       "      <td>False</td>\n",
       "      <td>False</td>\n",
       "      <td>False</td>\n",
       "      <td>False</td>\n",
       "      <td>False</td>\n",
       "      <td>False</td>\n",
       "      <td>False</td>\n",
       "      <td>...</td>\n",
       "      <td>False</td>\n",
       "      <td>False</td>\n",
       "      <td>True</td>\n",
       "      <td>True</td>\n",
       "      <td>True</td>\n",
       "      <td>13.8</td>\n",
       "      <td>22.6</td>\n",
       "      <td>89.0</td>\n",
       "      <td>78.4</td>\n",
       "      <td>160.0</td>\n",
       "    </tr>\n",
       "    <tr>\n",
       "      <th>2</th>\n",
       "      <td>c85cf97bc6307ded0dd4fef8bad2fa09</td>\n",
       "      <td>2011-01-02</td>\n",
       "      <td>2011-01-13</td>\n",
       "      <td>False</td>\n",
       "      <td>False</td>\n",
       "      <td>False</td>\n",
       "      <td>False</td>\n",
       "      <td>False</td>\n",
       "      <td>False</td>\n",
       "      <td>False</td>\n",
       "      <td>...</td>\n",
       "      <td>True</td>\n",
       "      <td>True</td>\n",
       "      <td>True</td>\n",
       "      <td>True</td>\n",
       "      <td>False</td>\n",
       "      <td>11.2</td>\n",
       "      <td>26.2</td>\n",
       "      <td>100.0</td>\n",
       "      <td>72.0</td>\n",
       "      <td>151.0</td>\n",
       "    </tr>\n",
       "    <tr>\n",
       "      <th>3</th>\n",
       "      <td>e0397dd72caf4552c5babebd3d61736c</td>\n",
       "      <td>2011-01-02</td>\n",
       "      <td>2011-01-14</td>\n",
       "      <td>False</td>\n",
       "      <td>True</td>\n",
       "      <td>False</td>\n",
       "      <td>False</td>\n",
       "      <td>False</td>\n",
       "      <td>True</td>\n",
       "      <td>True</td>\n",
       "      <td>...</td>\n",
       "      <td>True</td>\n",
       "      <td>True</td>\n",
       "      <td>True</td>\n",
       "      <td>True</td>\n",
       "      <td>True</td>\n",
       "      <td>13.3</td>\n",
       "      <td>28.4</td>\n",
       "      <td>76.0</td>\n",
       "      <td>64.4</td>\n",
       "      <td>152.0</td>\n",
       "    </tr>\n",
       "    <tr>\n",
       "      <th>4</th>\n",
       "      <td>94ade3cd5f66f4584902554dff170a29</td>\n",
       "      <td>2011-01-08</td>\n",
       "      <td>2011-01-16</td>\n",
       "      <td>False</td>\n",
       "      <td>False</td>\n",
       "      <td>False</td>\n",
       "      <td>False</td>\n",
       "      <td>False</td>\n",
       "      <td>True</td>\n",
       "      <td>True</td>\n",
       "      <td>...</td>\n",
       "      <td>False</td>\n",
       "      <td>True</td>\n",
       "      <td>False</td>\n",
       "      <td>True</td>\n",
       "      <td>False</td>\n",
       "      <td>12.0</td>\n",
       "      <td>27.8</td>\n",
       "      <td>87.0</td>\n",
       "      <td>55.6</td>\n",
       "      <td>160.0</td>\n",
       "    </tr>\n",
       "  </tbody>\n",
       "</table>\n",
       "<p>5 rows × 26 columns</p>\n",
       "</div>"
      ],
      "text/plain": [
       "                                 id date_of_admission date_of_discharge  \\\n",
       "0  1d21f2be18683991eb93d182d6b2d220        2011-01-01        2011-01-11   \n",
       "1  62bdca0b95d97e99e1c712048fb9fd09        2011-01-01        2011-01-11   \n",
       "2  c85cf97bc6307ded0dd4fef8bad2fa09        2011-01-02        2011-01-13   \n",
       "3  e0397dd72caf4552c5babebd3d61736c        2011-01-02        2011-01-14   \n",
       "4  94ade3cd5f66f4584902554dff170a29        2011-01-08        2011-01-16   \n",
       "\n",
       "   medical_history_1  medical_history_2  medical_history_3  medical_history_4  \\\n",
       "0              False               True              False              False   \n",
       "1              False              False              False              False   \n",
       "2              False              False              False              False   \n",
       "3              False               True              False              False   \n",
       "4              False              False              False              False   \n",
       "\n",
       "   medical_history_5  medical_history_6  medical_history_7   ...    symptom_1  \\\n",
       "0              False              False              False   ...        False   \n",
       "1              False              False              False   ...        False   \n",
       "2              False              False              False   ...         True   \n",
       "3              False               True               True   ...         True   \n",
       "4              False               True               True   ...        False   \n",
       "\n",
       "   symptom_2  symptom_3  symptom_4  symptom_5  lab_result_1  lab_result_2  \\\n",
       "0      False      False       True       True          13.2          30.9   \n",
       "1      False       True       True       True          13.8          22.6   \n",
       "2       True       True       True      False          11.2          26.2   \n",
       "3       True       True       True       True          13.3          28.4   \n",
       "4       True      False       True      False          12.0          27.8   \n",
       "\n",
       "   lab_result_3  weight  height  \n",
       "0         123.0    71.3   161.0  \n",
       "1          89.0    78.4   160.0  \n",
       "2         100.0    72.0   151.0  \n",
       "3          76.0    64.4   152.0  \n",
       "4          87.0    55.6   160.0  \n",
       "\n",
       "[5 rows x 26 columns]"
      ]
     },
     "execution_count": 26,
     "metadata": {},
     "output_type": "execute_result"
    }
   ],
   "source": [
    "print clinical_data.dtypes\n",
    "clinical_data.head()"
   ]
  },
  {
   "cell_type": "code",
   "execution_count": 27,
   "metadata": {},
   "outputs": [
    {
     "name": "stdout",
     "output_type": "stream",
     "text": [
      "(0, 26)\n",
      "(0, 26)\n"
     ]
    }
   ],
   "source": [
    "print clinical_data[clinical_data['medical_history_2'].isnull()].shape\n",
    "print clinical_data[clinical_data['medical_history_5'].isnull()].shape"
   ]
  },
  {
   "cell_type": "markdown",
   "metadata": {},
   "source": [
    "### 2.4 Table: demographic"
   ]
  },
  {
   "cell_type": "code",
   "execution_count": 28,
   "metadata": {},
   "outputs": [
    {
     "name": "stdout",
     "output_type": "stream",
     "text": [
      "patient_id         object\n",
      "gender             object\n",
      "race               object\n",
      "resident_status    object\n",
      "date_of_birth      object\n",
      "dtype: object\n"
     ]
    },
    {
     "data": {
      "text/html": [
       "<div>\n",
       "<style>\n",
       "    .dataframe thead tr:only-child th {\n",
       "        text-align: right;\n",
       "    }\n",
       "\n",
       "    .dataframe thead th {\n",
       "        text-align: left;\n",
       "    }\n",
       "\n",
       "    .dataframe tbody tr th {\n",
       "        vertical-align: top;\n",
       "    }\n",
       "</style>\n",
       "<table border=\"1\" class=\"dataframe\">\n",
       "  <thead>\n",
       "    <tr style=\"text-align: right;\">\n",
       "      <th></th>\n",
       "      <th>patient_id</th>\n",
       "      <th>gender</th>\n",
       "      <th>race</th>\n",
       "      <th>resident_status</th>\n",
       "      <th>date_of_birth</th>\n",
       "    </tr>\n",
       "  </thead>\n",
       "  <tbody>\n",
       "    <tr>\n",
       "      <th>0</th>\n",
       "      <td>fa2d818b2261e44e30628ad1ac9cc72c</td>\n",
       "      <td>Female</td>\n",
       "      <td>Indian</td>\n",
       "      <td>Singaporean</td>\n",
       "      <td>1971-05-14</td>\n",
       "    </tr>\n",
       "    <tr>\n",
       "      <th>1</th>\n",
       "      <td>5b6477c5de78d0b138e3b0c18e21d0ae</td>\n",
       "      <td>f</td>\n",
       "      <td>Chinese</td>\n",
       "      <td>Singapore citizen</td>\n",
       "      <td>1976-02-18</td>\n",
       "    </tr>\n",
       "    <tr>\n",
       "      <th>2</th>\n",
       "      <td>320aa16c61937447fd6631bf635e7fde</td>\n",
       "      <td>Male</td>\n",
       "      <td>Chinese</td>\n",
       "      <td>Singapore citizen</td>\n",
       "      <td>1982-07-03</td>\n",
       "    </tr>\n",
       "    <tr>\n",
       "      <th>3</th>\n",
       "      <td>c7f3881684045e6c49020481020fae36</td>\n",
       "      <td>Male</td>\n",
       "      <td>Malay</td>\n",
       "      <td>Singapore citizen</td>\n",
       "      <td>1947-06-15</td>\n",
       "    </tr>\n",
       "    <tr>\n",
       "      <th>4</th>\n",
       "      <td>541ad077cb4a0e64cc422673afe28aef</td>\n",
       "      <td>m</td>\n",
       "      <td>Chinese</td>\n",
       "      <td>Singaporean</td>\n",
       "      <td>1970-12-12</td>\n",
       "    </tr>\n",
       "  </tbody>\n",
       "</table>\n",
       "</div>"
      ],
      "text/plain": [
       "                         patient_id  gender     race    resident_status  \\\n",
       "0  fa2d818b2261e44e30628ad1ac9cc72c  Female   Indian        Singaporean   \n",
       "1  5b6477c5de78d0b138e3b0c18e21d0ae       f  Chinese  Singapore citizen   \n",
       "2  320aa16c61937447fd6631bf635e7fde    Male  Chinese  Singapore citizen   \n",
       "3  c7f3881684045e6c49020481020fae36    Male    Malay  Singapore citizen   \n",
       "4  541ad077cb4a0e64cc422673afe28aef       m  Chinese        Singaporean   \n",
       "\n",
       "  date_of_birth  \n",
       "0    1971-05-14  \n",
       "1    1976-02-18  \n",
       "2    1982-07-03  \n",
       "3    1947-06-15  \n",
       "4    1970-12-12  "
      ]
     },
     "execution_count": 28,
     "metadata": {},
     "output_type": "execute_result"
    }
   ],
   "source": [
    "print demographics.dtypes\n",
    "demographics.head()"
   ]
  },
  {
   "cell_type": "markdown",
   "metadata": {},
   "source": [
    "#### Step1: Remove anomalies"
   ]
  },
  {
   "cell_type": "code",
   "execution_count": 29,
   "metadata": {},
   "outputs": [
    {
     "data": {
      "text/plain": [
       "Female    1396\n",
       "Male      1333\n",
       "m          170\n",
       "f          101\n",
       "Name: gender, dtype: int64"
      ]
     },
     "execution_count": 29,
     "metadata": {},
     "output_type": "execute_result"
    }
   ],
   "source": [
    "demographics.gender.value_counts()"
   ]
  },
  {
   "cell_type": "code",
   "execution_count": 30,
   "metadata": {
    "collapsed": true
   },
   "outputs": [],
   "source": [
    "demographics['gender'] = np.where((demographics['gender'] == 'm') | (demographics['gender'] == 'Male'), 1, 0).astype(bool)"
   ]
  },
  {
   "cell_type": "code",
   "execution_count": 31,
   "metadata": {},
   "outputs": [
    {
     "data": {
      "text/plain": [
       "True     1503\n",
       "False    1497\n",
       "Name: gender, dtype: int64"
      ]
     },
     "execution_count": 31,
     "metadata": {},
     "output_type": "execute_result"
    }
   ],
   "source": [
    "demographics.gender.value_counts()"
   ]
  },
  {
   "cell_type": "code",
   "execution_count": 32,
   "metadata": {
    "scrolled": true
   },
   "outputs": [
    {
     "data": {
      "text/plain": [
       "Chinese    1608\n",
       "Malay       629\n",
       "chinese     307\n",
       "Indian      195\n",
       "Others      161\n",
       "India       100\n",
       "Name: race, dtype: int64"
      ]
     },
     "execution_count": 32,
     "metadata": {},
     "output_type": "execute_result"
    }
   ],
   "source": [
    "demographics.race.value_counts()"
   ]
  },
  {
   "cell_type": "code",
   "execution_count": 33,
   "metadata": {
    "collapsed": true
   },
   "outputs": [],
   "source": [
    "demographics['race'] = np.where((demographics['race'] == 'Chinese') | (demographics['race'] == 'chinese'), 'Chinese', demographics['race'])\n",
    "demographics['race'] = np.where((demographics['race'] == 'Indian') | (demographics['race'] == 'India'), 'Indian', demographics['race'])"
   ]
  },
  {
   "cell_type": "code",
   "execution_count": 34,
   "metadata": {},
   "outputs": [
    {
     "data": {
      "text/plain": [
       "Chinese    1915\n",
       "Malay       629\n",
       "Indian      295\n",
       "Others      161\n",
       "Name: race, dtype: int64"
      ]
     },
     "execution_count": 34,
     "metadata": {},
     "output_type": "execute_result"
    }
   ],
   "source": [
    "demographics.race.value_counts()"
   ]
  },
  {
   "cell_type": "code",
   "execution_count": 35,
   "metadata": {},
   "outputs": [
    {
     "data": {
      "text/plain": [
       "Singaporean          1782\n",
       "Singapore citizen     610\n",
       "PR                    465\n",
       "Foreigner             143\n",
       "Name: resident_status, dtype: int64"
      ]
     },
     "execution_count": 35,
     "metadata": {},
     "output_type": "execute_result"
    }
   ],
   "source": [
    "demographics.resident_status.value_counts()"
   ]
  },
  {
   "cell_type": "code",
   "execution_count": 36,
   "metadata": {
    "collapsed": true
   },
   "outputs": [],
   "source": [
    "demographics['resident_status'] = np.where((demographics['resident_status'] == 'Singaporean') | (demographics['resident_status'] == 'Singapore citizen'), 'Singaporean', demographics['resident_status'])"
   ]
  },
  {
   "cell_type": "code",
   "execution_count": 37,
   "metadata": {},
   "outputs": [
    {
     "data": {
      "text/plain": [
       "Singaporean    2392\n",
       "PR              465\n",
       "Foreigner       143\n",
       "Name: resident_status, dtype: int64"
      ]
     },
     "execution_count": 37,
     "metadata": {},
     "output_type": "execute_result"
    }
   ],
   "source": [
    "demographics.resident_status.value_counts()"
   ]
  },
  {
   "cell_type": "markdown",
   "metadata": {},
   "source": [
    "#### Convert data type"
   ]
  },
  {
   "cell_type": "code",
   "execution_count": 38,
   "metadata": {
    "collapsed": true
   },
   "outputs": [],
   "source": [
    "category_vars = ['patient_id','race', 'resident_status']\n",
    "date_vars = ['date_of_birth']"
   ]
  },
  {
   "cell_type": "code",
   "execution_count": 39,
   "metadata": {
    "collapsed": true
   },
   "outputs": [],
   "source": [
    "for var in date_vars:\n",
    "    demographics[var] = pd.to_datetime(demographics[var])"
   ]
  },
  {
   "cell_type": "code",
   "execution_count": 40,
   "metadata": {
    "collapsed": true
   },
   "outputs": [],
   "source": [
    "for var in category_vars:\n",
    "    demographics[var] = demographics[var].astype(object)"
   ]
  },
  {
   "cell_type": "markdown",
   "metadata": {},
   "source": [
    "# Merge Dataset"
   ]
  },
  {
   "cell_type": "markdown",
   "metadata": {},
   "source": [
    "#### Step1: Merge table 'bill_amount' and 'bill_id'"
   ]
  },
  {
   "cell_type": "code",
   "execution_count": 41,
   "metadata": {},
   "outputs": [
    {
     "name": "stdout",
     "output_type": "stream",
     "text": [
      "(13600, 4)\n"
     ]
    }
   ],
   "source": [
    "bills_info = bill_id.merge(bill_amount, on = 'bill_id', how = 'outer')\n",
    "print bills_info.shape"
   ]
  },
  {
   "cell_type": "markdown",
   "metadata": {},
   "source": [
    "#### Step2: Aggregate bill amounts based on 'patient_id' and 'date_of_admission'"
   ]
  },
  {
   "cell_type": "code",
   "execution_count": 42,
   "metadata": {},
   "outputs": [
    {
     "name": "stdout",
     "output_type": "stream",
     "text": [
      "(3400, 3)\n"
     ]
    }
   ],
   "source": [
    "bills = bills_info.groupby(['patient_id','date_of_admission']).sum().reset_index()\n",
    "print bills.shape"
   ]
  },
  {
   "cell_type": "markdown",
   "metadata": {},
   "source": [
    "#### Step3: Merge 'Clinical_data', 'demographic' and bill information"
   ]
  },
  {
   "cell_type": "code",
   "execution_count": 43,
   "metadata": {},
   "outputs": [
    {
     "name": "stdout",
     "output_type": "stream",
     "text": [
      "(3009, 31)\n"
     ]
    }
   ],
   "source": [
    "data = bills.merge(clinical_data, left_on = ['patient_id', 'date_of_admission'], right_on = ['id', 'date_of_admission'], how = 'right').merge(demographics, how = 'left', on = 'patient_id')\n",
    "data.drop(labels='id', inplace = True, axis = 1)\n",
    "print data.shape"
   ]
  },
  {
   "cell_type": "code",
   "execution_count": 44,
   "metadata": {
    "scrolled": true
   },
   "outputs": [
    {
     "data": {
      "text/plain": [
       "Index([u'patient_id', u'date_of_admission', u'amount', u'date_of_discharge',\n",
       "       u'medical_history_1', u'medical_history_2', u'medical_history_3',\n",
       "       u'medical_history_4', u'medical_history_5', u'medical_history_6',\n",
       "       u'medical_history_7', u'preop_medication_1', u'preop_medication_2',\n",
       "       u'preop_medication_3', u'preop_medication_4', u'preop_medication_5',\n",
       "       u'preop_medication_6', u'symptom_1', u'symptom_2', u'symptom_3',\n",
       "       u'symptom_4', u'symptom_5', u'lab_result_1', u'lab_result_2',\n",
       "       u'lab_result_3', u'weight', u'height', u'gender', u'race',\n",
       "       u'resident_status', u'date_of_birth'],\n",
       "      dtype='object')"
      ]
     },
     "execution_count": 44,
     "metadata": {},
     "output_type": "execute_result"
    }
   ],
   "source": [
    "data.columns"
   ]
  },
  {
   "cell_type": "markdown",
   "metadata": {},
   "source": [
    "## Feature Engineering\n",
    "#### Step1: Add new variables"
   ]
  },
  {
   "cell_type": "code",
   "execution_count": 45,
   "metadata": {
    "collapsed": true
   },
   "outputs": [],
   "source": [
    "data['age'] = ((data['date_of_discharge'] - data['date_of_birth']).dt.days / 365).astype(int)\n",
    "data['BMI'] = data['weight'] / np.square(data['height']/100)\n",
    "data['number_of_symptoms'] = data['symptom_1'].astype(int) + data['symptom_2'].astype(int) + data['symptom_3'].astype(int) + data['symptom_4'].astype(int) + data['symptom_5'].astype(int)\n",
    "data['number_of_medical_histories'] = data['medical_history_1'].astype(int) + data['medical_history_2'].astype(int) + data['medical_history_3'].astype(int) + data['medical_history_4'].astype(int) + data['medical_history_5'].astype(int)+ data['medical_history_6'].astype(int)+ data['medical_history_7'].astype(int)\n",
    "data['number_of_preop_medications'] = data['preop_medication_1'].astype(int) + data['preop_medication_2'].astype(int) + data['preop_medication_3'].astype(int) + data['preop_medication_4'].astype(int) + data['preop_medication_5'].astype(int)+ data['preop_medication_6'].astype(int)\n",
    "data['length'] = (data['date_of_discharge'] - data['date_of_admission']).dt.days\n",
    "data['year_of_admission'] = data['date_of_admission'].dt.year\n",
    "data['month_of_admission'] = data['date_of_admission'].dt.month"
   ]
  },
  {
   "cell_type": "code",
   "execution_count": 46,
   "metadata": {
    "collapsed": true
   },
   "outputs": [],
   "source": [
    "def find_frequency(patient_id, admission_date):\n",
    "    return data[(data.patient_id == patient_id) & (data.date_of_admission < admission_date)].shape[0]"
   ]
  },
  {
   "cell_type": "code",
   "execution_count": 47,
   "metadata": {
    "collapsed": true
   },
   "outputs": [],
   "source": [
    "def find_recency(patient_id, admission_date):\n",
    "    if (find_frequency(patient_id, admission_date) > 1):\n",
    "        last_date = data.loc[(data.patient_id == patient_id) & (data.date_of_admission < admission_date), 'date_of_admission'].max()\n",
    "        return (admission_date - last_date).days\n",
    "    else:\n",
    "        return float('Inf')"
   ]
  },
  {
   "cell_type": "code",
   "execution_count": 48,
   "metadata": {
    "collapsed": true
   },
   "outputs": [],
   "source": [
    "data['frequency'] = data.apply(lambda row: find_frequency(row['patient_id'], row['date_of_admission']), axis = 1)\n",
    "data['recency'] = data.apply(lambda row: find_recency(row['patient_id'], row['date_of_admission']), axis = 1)"
   ]
  },
  {
   "cell_type": "markdown",
   "metadata": {},
   "source": [
    "#### Step2: Encode categorical variables"
   ]
  },
  {
   "cell_type": "code",
   "execution_count": 49,
   "metadata": {
    "collapsed": true
   },
   "outputs": [],
   "source": [
    "categorical_vars = ['race', 'resident_status']\n",
    "for var in categorical_vars:\n",
    "    values = list(data[var].unique())\n",
    "    for value in values:\n",
    "        var_name = var + \"_\" + value\n",
    "        data[var_name] = np.where((data[var] == value), True, False)"
   ]
  },
  {
   "cell_type": "markdown",
   "metadata": {},
   "source": [
    "#### Step3: Split dataset"
   ]
  },
  {
   "cell_type": "code",
   "execution_count": 50,
   "metadata": {},
   "outputs": [
    {
     "name": "stdout",
     "output_type": "stream",
     "text": [
      "(1503, 41)\n",
      "(1503L,)\n",
      "(1506, 41)\n",
      "(1506L,)\n"
     ]
    }
   ],
   "source": [
    "rm_columns = [ 'patient_id','date_of_admission', 'date_of_discharge', 'race', 'resident_status', 'date_of_birth']\n",
    "target = 'amount'\n",
    "\n",
    "X_male = data.loc[data['gender'] == True, ~data.columns.isin(rm_columns + [target])]\n",
    "y_male = data.loc[data['gender'] == True, target]\n",
    "X_female = data.loc[data['gender'] == False, ~data.columns.isin(rm_columns + [target])]\n",
    "y_female = data.loc[data['gender'] == False, target]\n",
    "\n",
    "print X_male.shape\n",
    "print y_male.shape\n",
    "print X_female.shape\n",
    "print y_female.shape"
   ]
  },
  {
   "cell_type": "markdown",
   "metadata": {},
   "source": [
    "## Modelling"
   ]
  },
  {
   "cell_type": "markdown",
   "metadata": {},
   "source": [
    "#### Step1: Check correlation between features"
   ]
  },
  {
   "cell_type": "code",
   "execution_count": 83,
   "metadata": {},
   "outputs": [
    {
     "data": {
      "image/png": "[encoded data removed]",
      "text/plain": [
       "<matplotlib.figure.Figure at 0xc602390>"
      ]
     },
     "metadata": {},
     "output_type": "display_data"
    }
   ],
   "source": [
    "X_male.corr()\n",
    "variable_correlations_m = X_male[label_m].corr()\n",
    "sns.heatmap(variable_correlations_m, cmap='YlGnBu')\n",
    "plt.show()"
   ]
  },
  {
   "cell_type": "markdown",
   "metadata": {},
   "source": [
    "#### Step2.1: Model tunning(for male samples)"
   ]
  },
  {
   "cell_type": "code",
   "execution_count": 51,
   "metadata": {
    "collapsed": true
   },
   "outputs": [],
   "source": [
    "param_grid_lgb = {\n",
    "          'num_leaves':[2**i for i in range(1,10)],\n",
    "          'bagging_fraction' : [0.1*i for i in range(1,11)],\n",
    "          'bagging_frequency' : range(1,6),\n",
    "          'feature_fraction': [0.1*i for i in range(1,11)]}"
   ]
  },
  {
   "cell_type": "code",
   "execution_count": 54,
   "metadata": {
    "collapsed": true
   },
   "outputs": [],
   "source": [
    "regressor = lgb.LGBMRegressor(application = 'regression', \n",
    "                              num_threads = 2,\n",
    "                              metric = 'rmse',\n",
    "                             learnring_rate = 0.03)\n",
    "search_lgb = GridSearchCV(regressor, param_grid_lgb, cv=5)\n"
   ]
  },
  {
   "cell_type": "code",
   "execution_count": 55,
   "metadata": {},
   "outputs": [
    {
     "name": "stderr",
     "output_type": "stream",
     "text": [
      "D:\\abc\\envs\\python27true\\lib\\site-packages\\lightgbm\\basic.py:642: UserWarning: max_bin keyword has been found in `params` and will be ignored. Please use max_bin argument of the Dataset constructor to pass this parameter.\n",
      "  'Please use {0} argument of the Dataset constructor to pass this parameter.'.format(key))\n",
      "D:\\abc\\envs\\python27true\\lib\\site-packages\\lightgbm\\basic.py:648: LGBMDeprecationWarning: The `max_bin` parameter is deprecated and will be removed in 2.0.12 version. Please use `params` to pass this parameter.\n",
      "  'Please use `params` to pass this parameter.', LGBMDeprecationWarning)\n"
     ]
    },
    {
     "name": "stdout",
     "output_type": "stream",
     "text": [
      "Wall time: 15min 23s\n"
     ]
    },
    {
     "data": {
      "text/plain": [
       "GridSearchCV(cv=5, error_score='raise',\n",
       "       estimator=LGBMRegressor(application='regression', boosting_type='gbdt',\n",
       "       colsample_bytree=1.0, learning_rate=0.1, learnring_rate=0.03,\n",
       "       max_bin=255, max_depth=-1, metric='rmse', min_child_samples=20,\n",
       "       min_child_weight=0.001, min_split_gain=0.0, n_estimators=10,\n",
       "       n_jobs=-1, num_leaves=31, num_threads=2, objective=None,\n",
       "       random_state=None, reg_alpha=0.0, reg_lambda=0.0, silent=True,\n",
       "       subsample=1.0, subsample_for_bin=200000, subsample_freq=1),\n",
       "       fit_params=None, iid=True, n_jobs=1,\n",
       "       param_grid={'num_leaves': [2, 4, 8, 16, 32, 64, 128, 256, 512], 'feature_fraction': [0.1, 0.2, 0.30000000000000004, 0.4, 0.5, 0.6000000000000001, 0.7000000000000001, 0.8, 0.9, 1.0], 'bagging_fraction': [0.1, 0.2, 0.30000000000000004, 0.4, 0.5, 0.6000000000000001, 0.7000000000000001, 0.8, 0.9, 1.0], 'bagging_frequency': [1, 2, 3, 4, 5]},\n",
       "       pre_dispatch='2*n_jobs', refit=True, return_train_score=True,\n",
       "       scoring=None, verbose=0)"
      ]
     },
     "execution_count": 55,
     "metadata": {},
     "output_type": "execute_result"
    }
   ],
   "source": [
    "%time search_lgb.fit(X_male, y_male)"
   ]
  },
  {
   "cell_type": "code",
   "execution_count": 56,
   "metadata": {},
   "outputs": [
    {
     "data": {
      "text/plain": [
       "{'bagging_fraction': 1.0,\n",
       " 'bagging_frequency': 1,\n",
       " 'feature_fraction': 1.0,\n",
       " 'num_leaves': 64}"
      ]
     },
     "execution_count": 56,
     "metadata": {},
     "output_type": "execute_result"
    }
   ],
   "source": [
    "search_lgb.best_params_"
   ]
  },
  {
   "cell_type": "markdown",
   "metadata": {},
   "source": [
    "#### Step2.2: train model (for male samples)"
   ]
  },
  {
   "cell_type": "code",
   "execution_count": 57,
   "metadata": {},
   "outputs": [
    {
     "name": "stdout",
     "output_type": "stream",
     "text": [
      "Wall time: 126 ms\n"
     ]
    },
    {
     "data": {
      "text/plain": [
       "LGBMRegressor(application='regression', bagging_fraction=1.0,\n",
       "       boosting_type='gbdt', colsample_bytree=1.0, feature_frequency=1,\n",
       "       learning_rate=0.1, learnring_rate=0.03, max_bin=255, max_depth=-1,\n",
       "       metric='rmse', min_child_samples=20, min_child_weight=0.001,\n",
       "       min_split_gain=0.0, n_estimators=10, n_jobs=-1, num_leaves=64,\n",
       "       num_threads=2, objective=None, random_state=None, reg_alpha=0.0,\n",
       "       reg_lambda=0.0, silent=True, subsample=1.0,\n",
       "       subsample_for_bin=200000, subsample_freq=1)"
      ]
     },
     "execution_count": 57,
     "metadata": {},
     "output_type": "execute_result"
    }
   ],
   "source": [
    "regressor_male = lgb.LGBMRegressor(application = 'regression', \n",
    "                              num_threads = 2,\n",
    "                              metric = 'rmse',\n",
    "                              bagging_fraction = 1.0,\n",
    "                              feature_frequency = 1,\n",
    "                              learnring_rate = 0.03,\n",
    "                              num_leaves = 64)\n",
    "                             \n",
    "%time regressor_male.fit(X_male, y_male)\n"
   ]
  },
  {
   "cell_type": "markdown",
   "metadata": {},
   "source": [
    "#### Step2.3: Check the feature importance score (for male samples)"
   ]
  },
  {
   "cell_type": "code",
   "execution_count": 58,
   "metadata": {
    "collapsed": true
   },
   "outputs": [],
   "source": [
    "var_names_male = X_male.columns.values\n",
    "var_importance_score_male = regressor_male.booster_.feature_importance()\n",
    "var_importance_male = dict(zip(var_names_male, var_importance_score_male))\n",
    "feature_importance_male = pd.DataFrame(sorted(var_importance_male.items(), key=lambda x: x[1]))\n",
    "#feature_importance"
   ]
  },
  {
   "cell_type": "code",
   "execution_count": 59,
   "metadata": {
    "scrolled": true
   },
   "outputs": [
    {
     "data": {
      "image/png": "[encoded data removed]",
      "text/plain": [
       "<matplotlib.figure.Figure at 0x111afda0>"
      ]
     },
     "metadata": {},
     "output_type": "display_data"
    }
   ],
   "source": [
    "label_m = feature_importance_male[feature_importance_male[1] > 0][0].tolist()\n",
    "x_m = feature_importance_male[feature_importance_male[1] > 0][1].tolist()\n",
    "width = 0.8\n",
    "\n",
    "plt.figure(figsize = (8,6))\n",
    "idx = np.arange(0,len(x_m))\n",
    "plt.barh(idx, x_m, width, color='blue', alpha=0.5)\n",
    "for a,b in zip(x_m,idx):\n",
    "    plt.text(a+2, b, a, fontsize=9)\n",
    "plt.yticks(idx,label_m, fontsize = 9)\n",
    "plt.xlim(0,190)\n",
    "plt.grid(axis='x')\n",
    "\n",
    " \n",
    "plt.xlabel('Importance Score')\n",
    "plt.ylabel('Feature Name')\n",
    "plt.title('Feature Importance for Male Samples')\n",
    " \n",
    "plt.show()"
   ]
  },
  {
   "cell_type": "markdown",
   "metadata": {},
   "source": [
    "#### Step3.1 Model tunning (for female samples)"
   ]
  },
  {
   "cell_type": "code",
   "execution_count": 60,
   "metadata": {},
   "outputs": [
    {
     "name": "stdout",
     "output_type": "stream",
     "text": [
      "Wall time: 15min 46s\n"
     ]
    },
    {
     "data": {
      "text/plain": [
       "GridSearchCV(cv=5, error_score='raise',\n",
       "       estimator=LGBMRegressor(application='regression', boosting_type='gbdt',\n",
       "       colsample_bytree=1.0, learning_rate=0.1, learnring_rate=0.03,\n",
       "       max_bin=255, max_depth=-1, metric='rmse', min_child_samples=20,\n",
       "       min_child_weight=0.001, min_split_gain=0.0, n_estimators=10,\n",
       "       n_jobs=-1, num_leaves=31, num_threads=2, objective=None,\n",
       "       random_state=None, reg_alpha=0.0, reg_lambda=0.0, silent=True,\n",
       "       subsample=1.0, subsample_for_bin=200000, subsample_freq=1),\n",
       "       fit_params=None, iid=True, n_jobs=1,\n",
       "       param_grid={'num_leaves': [2, 4, 8, 16, 32, 64, 128, 256, 512], 'feature_fraction': [0.1, 0.2, 0.30000000000000004, 0.4, 0.5, 0.6000000000000001, 0.7000000000000001, 0.8, 0.9, 1.0], 'bagging_fraction': [0.1, 0.2, 0.30000000000000004, 0.4, 0.5, 0.6000000000000001, 0.7000000000000001, 0.8, 0.9, 1.0], 'bagging_frequency': [1, 2, 3, 4, 5]},\n",
       "       pre_dispatch='2*n_jobs', refit=True, return_train_score=True,\n",
       "       scoring=None, verbose=0)"
      ]
     },
     "execution_count": 60,
     "metadata": {},
     "output_type": "execute_result"
    }
   ],
   "source": [
    "%time search_lgb.fit(X_female, y_female)"
   ]
  },
  {
   "cell_type": "code",
   "execution_count": 61,
   "metadata": {},
   "outputs": [
    {
     "data": {
      "text/plain": [
       "{'bagging_fraction': 1.0,\n",
       " 'bagging_frequency': 1,\n",
       " 'feature_fraction': 1.0,\n",
       " 'num_leaves': 64}"
      ]
     },
     "execution_count": 61,
     "metadata": {},
     "output_type": "execute_result"
    }
   ],
   "source": [
    "search_lgb.best_params_"
   ]
  },
  {
   "cell_type": "markdown",
   "metadata": {},
   "source": [
    "#### Step3.2: Train Model (for female samples)"
   ]
  },
  {
   "cell_type": "code",
   "execution_count": 62,
   "metadata": {},
   "outputs": [
    {
     "name": "stdout",
     "output_type": "stream",
     "text": [
      "Wall time: 40 ms\n"
     ]
    },
    {
     "data": {
      "text/plain": [
       "LGBMRegressor(application='regression', bagging_fraction=1.0,\n",
       "       boosting_type='gbdt', colsample_bytree=1.0, feature_frequency=1,\n",
       "       learning_rate=0.1, learnring_rate=0.03, max_bin=255, max_depth=-1,\n",
       "       metric='rmse', min_child_samples=20, min_child_weight=0.001,\n",
       "       min_split_gain=0.0, n_estimators=10, n_jobs=-1, num_leaves=64,\n",
       "       num_threads=2, objective=None, random_state=None, reg_alpha=0.0,\n",
       "       reg_lambda=0.0, silent=True, subsample=1.0,\n",
       "       subsample_for_bin=200000, subsample_freq=1)"
      ]
     },
     "execution_count": 62,
     "metadata": {},
     "output_type": "execute_result"
    }
   ],
   "source": [
    "regressor_female = lgb.LGBMRegressor(application = 'regression', \n",
    "                              num_threads = 2,\n",
    "                              metric = 'rmse',\n",
    "                              bagging_fraction = 1.0,\n",
    "                              feature_frequency = 1,\n",
    "                              learnring_rate = 0.03,\n",
    "                              num_leaves = 64)\n",
    "                             \n",
    "%time regressor_female.fit(X_female, y_female)\n"
   ]
  },
  {
   "cell_type": "markdown",
   "metadata": {},
   "source": [
    "#### Step3.3: Check Feature Importance (for female samples)"
   ]
  },
  {
   "cell_type": "code",
   "execution_count": 63,
   "metadata": {
    "collapsed": true
   },
   "outputs": [],
   "source": [
    "var_names_female = X_female.columns.values\n",
    "var_importance_score_female = regressor_female.booster_.feature_importance()\n",
    "var_importance_female = dict(zip(var_names_female, var_importance_score_female))\n",
    "feature_importance_female = pd.DataFrame(sorted(var_importance_female.items(), key=lambda x: x[1]))\n",
    "#feature_importance"
   ]
  },
  {
   "cell_type": "code",
   "execution_count": 64,
   "metadata": {},
   "outputs": [
    {
     "data": {
      "image/png": "[encoded data removed]",
      "text/plain": [
       "<matplotlib.figure.Figure at 0x116d1780>"
      ]
     },
     "metadata": {},
     "output_type": "display_data"
    }
   ],
   "source": [
    "label_f = feature_importance_female[feature_importance_female[1] > 0][0].tolist()\n",
    "x_f = feature_importance_female[feature_importance_female[1] > 0][1].tolist()\n",
    "width = 0.8\n",
    "\n",
    "plt.figure(figsize = (8,6))\n",
    "idx = np.arange(0,len(x_f))\n",
    "plt.barh(idx, x_f, width, color='red', alpha=0.5)\n",
    "for a,b in zip(x_f,idx):\n",
    "    plt.text(a+2, b, a, fontsize= 9)\n",
    "plt.yticks(idx,label_f, fontsize = 9)\n",
    "plt.xlim(0,190)\n",
    "plt.grid(axis='x')\n",
    "\n",
    " \n",
    "plt.xlabel('Importance Score')\n",
    "plt.ylabel('Feature Name')\n",
    "plt.title('Feature Importance for Female Samples')\n",
    " \n",
    "plt.show()"
   ]
  },
  {
   "cell_type": "markdown",
   "metadata": {},
   "source": [
    "## Data Visualization"
   ]
  },
  {
   "cell_type": "markdown",
   "metadata": {},
   "source": [
    "### Factor1: Age vs. Expense"
   ]
  },
  {
   "cell_type": "code",
   "execution_count": 66,
   "metadata": {},
   "outputs": [
    {
     "data": {
      "image/png": "[encoded data removed]",
      "text/plain": [
       "<matplotlib.figure.Figure at 0x116c8d30>"
      ]
     },
     "metadata": {},
     "output_type": "display_data"
    }
   ],
   "source": [
    "male = data.loc[data['gender'] == True, ['age', 'amount']].as_matrix()\n",
    "female = data.loc[data['gender'] == False, ['age', 'amount']].as_matrix()\n",
    "\n",
    "x = data['age'].tolist()\n",
    "y = data['amount'].tolist()\n",
    "z = np.polyfit(x, np.log(y), 1)\n",
    "p = np.poly1d(z)\n",
    "\n",
    "\n",
    "plt.figure(figsize=(8,6))\n",
    " \n",
    "plt.scatter(male[:,0], np.log(male[:,1]), marker='x',\n",
    "            color='blue', alpha=0.3, label='male')\n",
    "plt.scatter(female[:,0], np.log(female[:,1]), marker='x',\n",
    "            color='pink', alpha=0.5, label='female')\n",
    "\n",
    "plt.plot(x, p(x),'r-', color = 'black', alpha = 0.5)\n",
    "\n",
    "\n",
    "plt.title('Correlation between Age and Expense')\n",
    "plt.ylabel('log Amount')\n",
    "plt.xlabel('Age')\n",
    "plt.legend(loc='upper right')\n",
    " \n",
    "plt.show()\n"
   ]
  },
  {
   "cell_type": "markdown",
   "metadata": {},
   "source": [
    "### Factor2: Sympton vs. Expense"
   ]
  },
  {
   "cell_type": "code",
   "execution_count": 67,
   "metadata": {},
   "outputs": [
    {
     "data": {
      "image/png": "[encoded data removed]",
      "text/plain": [
       "<matplotlib.figure.Figure at 0xb41b0f0>"
      ]
     },
     "metadata": {},
     "output_type": "display_data"
    }
   ],
   "source": [
    "age_group1 = data.loc[data['age'] < 30, ['number_of_symptoms', 'amount']].as_matrix()\n",
    "age_group2 = data.loc[(data['age'] >= 30) & (data['age'] < 40), ['number_of_symptoms', 'amount']].as_matrix()\n",
    "age_group3 = data.loc[(data['age'] >= 40) & (data['age'] < 50), ['number_of_symptoms', 'amount']].as_matrix()\n",
    "age_group4 = data.loc[(data['age'] >= 50) & (data['age'] < 60), ['number_of_symptoms', 'amount']].as_matrix()\n",
    "age_group5 = data.loc[(data['age'] >= 60) & (data['age'] < 70), ['number_of_symptoms', 'amount']].as_matrix()\n",
    "age_group6 = data.loc[ data['age'] >= 70, ['number_of_symptoms', 'amount']].as_matrix()\n",
    "\n",
    "plt.figure(figsize=(15,9))\n",
    "#plt.figure(figsize=(8,6))\n",
    "\n",
    "plt.subplot(231) \n",
    "plt.scatter(age_group1[:,0], age_group1[:,1], marker='x',\n",
    "            color='green', alpha=0.5)\n",
    "plt.ylim(0, 100000) \n",
    "plt.title('Age Under 30')\n",
    "plt.ylabel('Amount')\n",
    "#plt.xlabel('Number of Symptons')\n",
    "\n",
    "plt.subplot(232) \n",
    "plt.scatter(age_group2[:,0], age_group2[:,1], marker='x',\n",
    "            color='green', alpha=0.5)\n",
    "plt.title('30 - 40')\n",
    "plt.ylim(0, 100000) \n",
    "#plt.ylabel('Amount')\n",
    "#plt.xlabel('Number of Symptons')\n",
    "\n",
    "plt.subplot(233) \n",
    "plt.scatter(age_group3[:,0], age_group3[:,1], marker='x',\n",
    "            color='green', alpha=0.5)\n",
    "plt.title('40 - 50')\n",
    "plt.ylim(0, 100000) \n",
    "#plt.ylabel('Amount')\n",
    "#plt.xlabel('Number of Symptons')\n",
    "\n",
    "plt.subplot(234) \n",
    "plt.scatter(age_group4[:,0], age_group4[:,1], marker='x',\n",
    "            color='green', alpha=0.5)\n",
    "plt.title('50 - 60')\n",
    "plt.ylabel('Amount')\n",
    "plt.ylim(0, 100000) \n",
    "plt.xlabel('Number of Symptons')\n",
    "\n",
    "plt.subplot(235) \n",
    "plt.scatter(age_group5[:,0], age_group5[:,1], marker='x',\n",
    "            color='green', alpha=0.5)\n",
    "plt.title('60 - 70')\n",
    "plt.ylim(0, 100000) \n",
    "#plt.ylabel('Amount')\n",
    "plt.xlabel('Number of Symptons')\n",
    "\n",
    "plt.subplot(236) \n",
    "plt.scatter(age_group6[:,0], age_group6[:,1], marker='x',\n",
    "            color='green', alpha=0.5)\n",
    "plt.title('Age Over 70')\n",
    "plt.ylim(0, 100000) \n",
    "#plt.ylabel('Amount')\n",
    "plt.xlabel('Number of Symptons')\n",
    "\n",
    "\n",
    "\n",
    "plt.show()\n"
   ]
  },
  {
   "cell_type": "markdown",
   "metadata": {},
   "source": [
    "## Factor3: Weight & Height"
   ]
  },
  {
   "cell_type": "code",
   "execution_count": 71,
   "metadata": {},
   "outputs": [],
   "source": [
    "male_health = data.loc[data['gender'] == True, ['height', 'weight', 'amount']]\n",
    "female_health = data.loc[data['gender'] == False, ['height', 'weight', 'amount']]"
   ]
  },
  {
   "cell_type": "code",
   "execution_count": 72,
   "metadata": {},
   "outputs": [],
   "source": [
    "min_value = 55\n",
    "max_value = 125\n",
    "interval = (max_value - min_value)/10\n",
    "var = 'weight'\n",
    "\n",
    "points = range(min_value, max_value, interval)\n",
    "idx = 0\n",
    "while (idx < len(points)):\n",
    "    male_health.loc[male_health[var] >= points[idx], var + '_group'] = points[idx]\n",
    "    idx = idx + 1"
   ]
  },
  {
   "cell_type": "code",
   "execution_count": 73,
   "metadata": {},
   "outputs": [],
   "source": [
    "min_value = 160\n",
    "max_value = 190\n",
    "interval = (max_value - min_value)/10\n",
    "var = 'height'\n",
    "\n",
    "points = range(min_value, max_value, interval)\n",
    "idx = 0\n",
    "while (idx < len(points)):\n",
    "    male_health.loc[male_health[var] >= points[idx], var + '_group'] = points[idx]\n",
    "    idx = idx + 1"
   ]
  },
  {
   "cell_type": "code",
   "execution_count": 74,
   "metadata": {},
   "outputs": [
    {
     "name": "stderr",
     "output_type": "stream",
     "text": [
      "D:\\abc\\envs\\python27true\\lib\\site-packages\\ipykernel_launcher.py:3: DeprecationWarning: \n",
      ".ix is deprecated. Please use\n",
      ".loc for label based indexing or\n",
      ".iloc for positional indexing\n",
      "\n",
      "See the documentation here:\n",
      "http://pandas.pydata.org/pandas-docs/stable/indexing.html#ix-indexer-is-deprecated\n",
      "  This is separate from the ipykernel package so we can avoid doing imports until\n"
     ]
    },
    {
     "data": {
      "text/html": [
       "<div>\n",
       "<style>\n",
       "    .dataframe thead tr:only-child th {\n",
       "        text-align: right;\n",
       "    }\n",
       "\n",
       "    .dataframe thead th {\n",
       "        text-align: left;\n",
       "    }\n",
       "\n",
       "    .dataframe tbody tr th {\n",
       "        vertical-align: top;\n",
       "    }\n",
       "</style>\n",
       "<table border=\"1\" class=\"dataframe\">\n",
       "  <thead>\n",
       "    <tr style=\"text-align: right;\">\n",
       "      <th>weight_group</th>\n",
       "      <th>55.0</th>\n",
       "      <th>62.0</th>\n",
       "      <th>69.0</th>\n",
       "      <th>76.0</th>\n",
       "      <th>83.0</th>\n",
       "      <th>90.0</th>\n",
       "      <th>97.0</th>\n",
       "      <th>104.0</th>\n",
       "      <th>111.0</th>\n",
       "      <th>118.0</th>\n",
       "    </tr>\n",
       "    <tr>\n",
       "      <th>height_group</th>\n",
       "      <th></th>\n",
       "      <th></th>\n",
       "      <th></th>\n",
       "      <th></th>\n",
       "      <th></th>\n",
       "      <th></th>\n",
       "      <th></th>\n",
       "      <th></th>\n",
       "      <th></th>\n",
       "      <th></th>\n",
       "    </tr>\n",
       "  </thead>\n",
       "  <tbody>\n",
       "    <tr>\n",
       "      <th>184.0</th>\n",
       "      <td>NaN</td>\n",
       "      <td>NaN</td>\n",
       "      <td>NaN</td>\n",
       "      <td>25646.992653</td>\n",
       "      <td>NaN</td>\n",
       "      <td>NaN</td>\n",
       "      <td>NaN</td>\n",
       "      <td>NaN</td>\n",
       "      <td>NaN</td>\n",
       "      <td>NaN</td>\n",
       "    </tr>\n",
       "    <tr>\n",
       "      <th>181.0</th>\n",
       "      <td>NaN</td>\n",
       "      <td>10184.919987</td>\n",
       "      <td>21886.226061</td>\n",
       "      <td>31634.731324</td>\n",
       "      <td>23260.450048</td>\n",
       "      <td>15504.332064</td>\n",
       "      <td>14183.065483</td>\n",
       "      <td>NaN</td>\n",
       "      <td>NaN</td>\n",
       "      <td>NaN</td>\n",
       "    </tr>\n",
       "    <tr>\n",
       "      <th>178.0</th>\n",
       "      <td>NaN</td>\n",
       "      <td>13434.375998</td>\n",
       "      <td>22859.851004</td>\n",
       "      <td>20016.365069</td>\n",
       "      <td>21869.705116</td>\n",
       "      <td>22907.316465</td>\n",
       "      <td>29001.026229</td>\n",
       "      <td>22445.565449</td>\n",
       "      <td>25263.762496</td>\n",
       "      <td>NaN</td>\n",
       "    </tr>\n",
       "    <tr>\n",
       "      <th>175.0</th>\n",
       "      <td>23071.094345</td>\n",
       "      <td>20077.253015</td>\n",
       "      <td>24114.640133</td>\n",
       "      <td>23531.978022</td>\n",
       "      <td>21784.960401</td>\n",
       "      <td>22043.656609</td>\n",
       "      <td>28667.234922</td>\n",
       "      <td>NaN</td>\n",
       "      <td>NaN</td>\n",
       "      <td>NaN</td>\n",
       "    </tr>\n",
       "    <tr>\n",
       "      <th>172.0</th>\n",
       "      <td>20583.414594</td>\n",
       "      <td>25121.717437</td>\n",
       "      <td>22593.456385</td>\n",
       "      <td>20759.870670</td>\n",
       "      <td>22126.217146</td>\n",
       "      <td>22409.946620</td>\n",
       "      <td>27220.286370</td>\n",
       "      <td>27092.278902</td>\n",
       "      <td>26510.941973</td>\n",
       "      <td>17157.894701</td>\n",
       "    </tr>\n",
       "    <tr>\n",
       "      <th>169.0</th>\n",
       "      <td>14304.901394</td>\n",
       "      <td>17863.446849</td>\n",
       "      <td>20423.487648</td>\n",
       "      <td>22422.843711</td>\n",
       "      <td>23366.263018</td>\n",
       "      <td>25335.116499</td>\n",
       "      <td>25050.442486</td>\n",
       "      <td>23640.249087</td>\n",
       "      <td>14132.344208</td>\n",
       "      <td>NaN</td>\n",
       "    </tr>\n",
       "    <tr>\n",
       "      <th>166.0</th>\n",
       "      <td>23098.496667</td>\n",
       "      <td>19764.735569</td>\n",
       "      <td>19771.259019</td>\n",
       "      <td>22809.107001</td>\n",
       "      <td>21635.987522</td>\n",
       "      <td>24182.155763</td>\n",
       "      <td>20614.661826</td>\n",
       "      <td>21823.909166</td>\n",
       "      <td>28214.755847</td>\n",
       "      <td>NaN</td>\n",
       "    </tr>\n",
       "    <tr>\n",
       "      <th>163.0</th>\n",
       "      <td>26468.076708</td>\n",
       "      <td>20541.057816</td>\n",
       "      <td>17592.158684</td>\n",
       "      <td>25108.220733</td>\n",
       "      <td>23618.407829</td>\n",
       "      <td>24705.575976</td>\n",
       "      <td>25243.466715</td>\n",
       "      <td>36265.540055</td>\n",
       "      <td>NaN</td>\n",
       "      <td>NaN</td>\n",
       "    </tr>\n",
       "    <tr>\n",
       "      <th>160.0</th>\n",
       "      <td>16283.836039</td>\n",
       "      <td>23448.930790</td>\n",
       "      <td>19118.188410</td>\n",
       "      <td>24031.636248</td>\n",
       "      <td>24304.149609</td>\n",
       "      <td>20050.317210</td>\n",
       "      <td>26869.655604</td>\n",
       "      <td>22392.321806</td>\n",
       "      <td>NaN</td>\n",
       "      <td>NaN</td>\n",
       "    </tr>\n",
       "  </tbody>\n",
       "</table>\n",
       "</div>"
      ],
      "text/plain": [
       "weight_group         55.0          62.0          69.0          76.0   \\\n",
       "height_group                                                           \n",
       "184.0                  NaN           NaN           NaN  25646.992653   \n",
       "181.0                  NaN  10184.919987  21886.226061  31634.731324   \n",
       "178.0                  NaN  13434.375998  22859.851004  20016.365069   \n",
       "175.0         23071.094345  20077.253015  24114.640133  23531.978022   \n",
       "172.0         20583.414594  25121.717437  22593.456385  20759.870670   \n",
       "169.0         14304.901394  17863.446849  20423.487648  22422.843711   \n",
       "166.0         23098.496667  19764.735569  19771.259019  22809.107001   \n",
       "163.0         26468.076708  20541.057816  17592.158684  25108.220733   \n",
       "160.0         16283.836039  23448.930790  19118.188410  24031.636248   \n",
       "\n",
       "weight_group         83.0          90.0          97.0          104.0  \\\n",
       "height_group                                                           \n",
       "184.0                  NaN           NaN           NaN           NaN   \n",
       "181.0         23260.450048  15504.332064  14183.065483           NaN   \n",
       "178.0         21869.705116  22907.316465  29001.026229  22445.565449   \n",
       "175.0         21784.960401  22043.656609  28667.234922           NaN   \n",
       "172.0         22126.217146  22409.946620  27220.286370  27092.278902   \n",
       "169.0         23366.263018  25335.116499  25050.442486  23640.249087   \n",
       "166.0         21635.987522  24182.155763  20614.661826  21823.909166   \n",
       "163.0         23618.407829  24705.575976  25243.466715  36265.540055   \n",
       "160.0         24304.149609  20050.317210  26869.655604  22392.321806   \n",
       "\n",
       "weight_group         111.0         118.0  \n",
       "height_group                              \n",
       "184.0                  NaN           NaN  \n",
       "181.0                  NaN           NaN  \n",
       "178.0         25263.762496           NaN  \n",
       "175.0                  NaN           NaN  \n",
       "172.0         26510.941973  17157.894701  \n",
       "169.0         14132.344208           NaN  \n",
       "166.0         28214.755847           NaN  \n",
       "163.0                  NaN           NaN  \n",
       "160.0                  NaN           NaN  "
      ]
     },
     "execution_count": 74,
     "metadata": {},
     "output_type": "execute_result"
    }
   ],
   "source": [
    "vis_data_male = male_health.pivot_table(values = 'amount', index = ['height_group'], columns = ['weight_group'], aggfunc = np.mean)\n",
    "rows =[vis_data_male.index.tolist()[8-i] for i in range(0,9)]\n",
    "vis_data_male = vis_data_male.ix[rows,:]\n",
    "vis_data_male"
   ]
  },
  {
   "cell_type": "code",
   "execution_count": 75,
   "metadata": {},
   "outputs": [],
   "source": [
    "min_value = 45\n",
    "max_value = 115\n",
    "interval = (max_value - min_value)/10\n",
    "var = 'weight'\n",
    "\n",
    "points = range(min_value, max_value, interval)\n",
    "idx = 0\n",
    "while (idx < len(points)):\n",
    "    female_health.loc[female_health[var] >= points[idx], var + '_group'] = points[idx]\n",
    "    idx = idx + 1"
   ]
  },
  {
   "cell_type": "code",
   "execution_count": 76,
   "metadata": {},
   "outputs": [],
   "source": [
    "min_value = 150\n",
    "max_value = 175\n",
    "interval = (max_value - min_value)/10\n",
    "var = 'height'\n",
    "\n",
    "points = range(min_value, max_value, interval)\n",
    "idx = 0\n",
    "while (idx < len(points)):\n",
    "    female_health.loc[female_health[var] >= points[idx], var + '_group'] = points[idx]\n",
    "    idx = idx + 1"
   ]
  },
  {
   "cell_type": "code",
   "execution_count": 77,
   "metadata": {},
   "outputs": [
    {
     "name": "stderr",
     "output_type": "stream",
     "text": [
      "D:\\abc\\envs\\python27true\\lib\\site-packages\\ipykernel_launcher.py:3: DeprecationWarning: \n",
      ".ix is deprecated. Please use\n",
      ".loc for label based indexing or\n",
      ".iloc for positional indexing\n",
      "\n",
      "See the documentation here:\n",
      "http://pandas.pydata.org/pandas-docs/stable/indexing.html#ix-indexer-is-deprecated\n",
      "  This is separate from the ipykernel package so we can avoid doing imports until\n"
     ]
    },
    {
     "data": {
      "text/html": [
       "<div>\n",
       "<style>\n",
       "    .dataframe thead tr:only-child th {\n",
       "        text-align: right;\n",
       "    }\n",
       "\n",
       "    .dataframe thead th {\n",
       "        text-align: left;\n",
       "    }\n",
       "\n",
       "    .dataframe tbody tr th {\n",
       "        vertical-align: top;\n",
       "    }\n",
       "</style>\n",
       "<table border=\"1\" class=\"dataframe\">\n",
       "  <thead>\n",
       "    <tr style=\"text-align: right;\">\n",
       "      <th>weight_group</th>\n",
       "      <th>45.0</th>\n",
       "      <th>52.0</th>\n",
       "      <th>59.0</th>\n",
       "      <th>66.0</th>\n",
       "      <th>73.0</th>\n",
       "      <th>80.0</th>\n",
       "      <th>87.0</th>\n",
       "      <th>94.0</th>\n",
       "      <th>101.0</th>\n",
       "      <th>108.0</th>\n",
       "    </tr>\n",
       "    <tr>\n",
       "      <th>height_group</th>\n",
       "      <th></th>\n",
       "      <th></th>\n",
       "      <th></th>\n",
       "      <th></th>\n",
       "      <th></th>\n",
       "      <th></th>\n",
       "      <th></th>\n",
       "      <th></th>\n",
       "      <th></th>\n",
       "      <th></th>\n",
       "    </tr>\n",
       "  </thead>\n",
       "  <tbody>\n",
       "    <tr>\n",
       "      <th>166.0</th>\n",
       "      <td>31848.109318</td>\n",
       "      <td>11344.184164</td>\n",
       "      <td>20745.288745</td>\n",
       "      <td>23235.403071</td>\n",
       "      <td>20499.056410</td>\n",
       "      <td>22503.171898</td>\n",
       "      <td>22522.724274</td>\n",
       "      <td>NaN</td>\n",
       "      <td>20353.895459</td>\n",
       "      <td>NaN</td>\n",
       "    </tr>\n",
       "    <tr>\n",
       "      <th>164.0</th>\n",
       "      <td>10115.320643</td>\n",
       "      <td>14670.529350</td>\n",
       "      <td>18239.807822</td>\n",
       "      <td>19279.254586</td>\n",
       "      <td>22717.213319</td>\n",
       "      <td>20904.553032</td>\n",
       "      <td>19528.628357</td>\n",
       "      <td>24682.674775</td>\n",
       "      <td>NaN</td>\n",
       "      <td>NaN</td>\n",
       "    </tr>\n",
       "    <tr>\n",
       "      <th>162.0</th>\n",
       "      <td>16144.588188</td>\n",
       "      <td>17050.218320</td>\n",
       "      <td>21136.318027</td>\n",
       "      <td>18511.460780</td>\n",
       "      <td>21109.845205</td>\n",
       "      <td>21804.208724</td>\n",
       "      <td>24175.526090</td>\n",
       "      <td>13983.837320</td>\n",
       "      <td>NaN</td>\n",
       "      <td>NaN</td>\n",
       "    </tr>\n",
       "    <tr>\n",
       "      <th>160.0</th>\n",
       "      <td>13442.003033</td>\n",
       "      <td>17351.581529</td>\n",
       "      <td>20988.584281</td>\n",
       "      <td>18659.644740</td>\n",
       "      <td>23048.675088</td>\n",
       "      <td>21694.737807</td>\n",
       "      <td>21692.594594</td>\n",
       "      <td>28496.496375</td>\n",
       "      <td>NaN</td>\n",
       "      <td>NaN</td>\n",
       "    </tr>\n",
       "    <tr>\n",
       "      <th>158.0</th>\n",
       "      <td>24983.084808</td>\n",
       "      <td>15306.712755</td>\n",
       "      <td>23701.537720</td>\n",
       "      <td>21258.307290</td>\n",
       "      <td>25055.313796</td>\n",
       "      <td>21559.620704</td>\n",
       "      <td>28194.827703</td>\n",
       "      <td>24824.345813</td>\n",
       "      <td>NaN</td>\n",
       "      <td>16824.376406</td>\n",
       "    </tr>\n",
       "    <tr>\n",
       "      <th>156.0</th>\n",
       "      <td>20517.766300</td>\n",
       "      <td>18944.123491</td>\n",
       "      <td>17458.334917</td>\n",
       "      <td>21092.065177</td>\n",
       "      <td>22867.242473</td>\n",
       "      <td>24218.009007</td>\n",
       "      <td>21653.416278</td>\n",
       "      <td>30361.615205</td>\n",
       "      <td>23502.343871</td>\n",
       "      <td>25362.141396</td>\n",
       "    </tr>\n",
       "    <tr>\n",
       "      <th>154.0</th>\n",
       "      <td>NaN</td>\n",
       "      <td>18714.455430</td>\n",
       "      <td>19075.636602</td>\n",
       "      <td>20001.998017</td>\n",
       "      <td>21941.479175</td>\n",
       "      <td>25371.981145</td>\n",
       "      <td>27552.348541</td>\n",
       "      <td>38844.121424</td>\n",
       "      <td>NaN</td>\n",
       "      <td>19160.034143</td>\n",
       "    </tr>\n",
       "    <tr>\n",
       "      <th>152.0</th>\n",
       "      <td>31528.294364</td>\n",
       "      <td>17031.061418</td>\n",
       "      <td>18308.458989</td>\n",
       "      <td>16285.753436</td>\n",
       "      <td>17650.648261</td>\n",
       "      <td>22479.063991</td>\n",
       "      <td>28042.992680</td>\n",
       "      <td>33406.859510</td>\n",
       "      <td>NaN</td>\n",
       "      <td>NaN</td>\n",
       "    </tr>\n",
       "    <tr>\n",
       "      <th>150.0</th>\n",
       "      <td>NaN</td>\n",
       "      <td>17428.901026</td>\n",
       "      <td>20745.008741</td>\n",
       "      <td>18818.360465</td>\n",
       "      <td>24143.595066</td>\n",
       "      <td>21255.732588</td>\n",
       "      <td>29895.042784</td>\n",
       "      <td>25135.426045</td>\n",
       "      <td>24653.777171</td>\n",
       "      <td>NaN</td>\n",
       "    </tr>\n",
       "  </tbody>\n",
       "</table>\n",
       "</div>"
      ],
      "text/plain": [
       "weight_group         45.0          52.0          59.0          66.0   \\\n",
       "height_group                                                           \n",
       "166.0         31848.109318  11344.184164  20745.288745  23235.403071   \n",
       "164.0         10115.320643  14670.529350  18239.807822  19279.254586   \n",
       "162.0         16144.588188  17050.218320  21136.318027  18511.460780   \n",
       "160.0         13442.003033  17351.581529  20988.584281  18659.644740   \n",
       "158.0         24983.084808  15306.712755  23701.537720  21258.307290   \n",
       "156.0         20517.766300  18944.123491  17458.334917  21092.065177   \n",
       "154.0                  NaN  18714.455430  19075.636602  20001.998017   \n",
       "152.0         31528.294364  17031.061418  18308.458989  16285.753436   \n",
       "150.0                  NaN  17428.901026  20745.008741  18818.360465   \n",
       "\n",
       "weight_group         73.0          80.0          87.0          94.0   \\\n",
       "height_group                                                           \n",
       "166.0         20499.056410  22503.171898  22522.724274           NaN   \n",
       "164.0         22717.213319  20904.553032  19528.628357  24682.674775   \n",
       "162.0         21109.845205  21804.208724  24175.526090  13983.837320   \n",
       "160.0         23048.675088  21694.737807  21692.594594  28496.496375   \n",
       "158.0         25055.313796  21559.620704  28194.827703  24824.345813   \n",
       "156.0         22867.242473  24218.009007  21653.416278  30361.615205   \n",
       "154.0         21941.479175  25371.981145  27552.348541  38844.121424   \n",
       "152.0         17650.648261  22479.063991  28042.992680  33406.859510   \n",
       "150.0         24143.595066  21255.732588  29895.042784  25135.426045   \n",
       "\n",
       "weight_group         101.0         108.0  \n",
       "height_group                              \n",
       "166.0         20353.895459           NaN  \n",
       "164.0                  NaN           NaN  \n",
       "162.0                  NaN           NaN  \n",
       "160.0                  NaN           NaN  \n",
       "158.0                  NaN  16824.376406  \n",
       "156.0         23502.343871  25362.141396  \n",
       "154.0                  NaN  19160.034143  \n",
       "152.0                  NaN           NaN  \n",
       "150.0         24653.777171           NaN  "
      ]
     },
     "execution_count": 77,
     "metadata": {},
     "output_type": "execute_result"
    }
   ],
   "source": [
    "vis_data_female = female_health.pivot_table(values = 'amount', index = ['height_group'], columns = ['weight_group'], aggfunc = np.mean)\n",
    "rows =[vis_data_female.index.tolist()[8-i] for i in range(0,9)]\n",
    "vis_data_female = vis_data_female.ix[rows,:]\n",
    "vis_data_female"
   ]
  },
  {
   "cell_type": "code",
   "execution_count": 78,
   "metadata": {},
   "outputs": [
    {
     "data": {
      "image/png": "[encoded data removed]",
      "text/plain": [
       "<matplotlib.figure.Figure at 0x10713c50>"
      ]
     },
     "metadata": {},
     "output_type": "display_data"
    }
   ],
   "source": [
    "f, ax = plt.subplots(figsize=(8, 6))\n",
    "sns.heatmap(vis_data_male, ax=ax, cmap='RdYlBu_r')\n",
    "label_y = ax.get_yticklabels()\n",
    "plt.setp(label_y, rotation=0, horizontalalignment='right')\n",
    "label_x = ax.get_xticklabels()\n",
    "plt.setp(label_x, rotation=45, horizontalalignment='right')\n",
    "plt.show()"
   ]
  },
  {
   "cell_type": "code",
   "execution_count": 79,
   "metadata": {},
   "outputs": [
    {
     "data": {
      "image/png": "[encoded data removed]",
      "text/plain": [
       "<matplotlib.figure.Figure at 0x107e4710>"
      ]
     },
     "metadata": {},
     "output_type": "display_data"
    }
   ],
   "source": [
    "f, ax = plt.subplots(figsize=(8, 6))\n",
    "sns.heatmap(vis_data_female, ax=ax, cmap='RdYlBu_r')\n",
    "label_y = ax.get_yticklabels()\n",
    "plt.setp(label_y, rotation=0, horizontalalignment='right')\n",
    "label_x = ax.get_xticklabels()\n",
    "plt.setp(label_x, rotation=45, horizontalalignment='right')\n",
    "plt.show()"
   ]
  },
  {
   "cell_type": "code",
   "execution_count": null,
   "metadata": {},
   "outputs": [],
   "source": []
  },
  {
   "cell_type": "code",
   "execution_count": null,
   "metadata": {},
   "outputs": [],
   "source": []
  }
 ],
 "metadata": {
  "kernelspec": {
   "display_name": "Python 2",
   "language": "python",
   "name": "python2"
  }
 },
 "nbformat": 4,
 "nbformat_minor": 2
}
